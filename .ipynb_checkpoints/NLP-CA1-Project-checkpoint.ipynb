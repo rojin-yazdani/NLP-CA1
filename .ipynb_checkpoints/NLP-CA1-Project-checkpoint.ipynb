{
 "cells": [
  {
   "cell_type": "markdown",
   "metadata": {},
   "source": [
    "<div><b>\n",
    "<font size=\"4\" color=\"Green\">\n",
    "Course: NLP\n",
    "</font></b></div>\n",
    "<br>\n",
    "<div><b>\n",
    "<font size=\"4\" color=\"Green\">\n",
    "Professor: Dr. Heshaam Faili\n",
    "</font></b></div>\n",
    "<br>\n",
    "<div><b>\n",
    "<font size=\"4\" color=\"Green\">\n",
    "Student: Roghayeh Yazdani, March 2020\n",
    "</font></b></div>"
   ]
  },
  {
   "cell_type": "markdown",
   "metadata": {},
   "source": [
    "<div>\n",
    "    <font style=\"font-family:'Courier New';font-weight:bold;color:Black\" size=\"4\">        \n",
    "        CA1 project: Classification of news texts\n",
    "    </font>\n",
    "</div>"
   ]
  },
  {
   "cell_type": "code",
   "execution_count": 1,
   "metadata": {},
   "outputs": [],
   "source": [
    "from nltk import bigrams, trigrams\n",
    "from nltk.util import ngrams\n",
    "from collections import Counter\n",
    "\n",
    "from nltk.lm.preprocessing import padded_everygram_pipeline\n",
    "from nltk.lm import MLE,Laplace,Lidstone\n",
    "\n",
    "import glob\n",
    "import re\n",
    "import numpy as np\n",
    "from random import shuffle\n",
    "from bs4 import BeautifulSoup\n",
    "\n",
    "from sklearn.metrics import accuracy_score, f1_score, precision_score, recall_score, classification_report, confusion_matrix\n",
    "\n",
    "import dill as pickle"
   ]
  },
  {
   "cell_type": "markdown",
   "metadata": {},
   "source": [
    "<div>\n",
    "    <font style=\"font-family:Calibri;font-weight:bold;color:blue\" size=\"4\" >    \n",
    "        Preprocessing Step\n",
    "    </font>\n",
    "</div>"
   ]
  },
  {
   "cell_type": "markdown",
   "metadata": {},
   "source": [
    "<div>\n",
    "<font style=\"font-family:verdana\" size=\"3\" color=\"Black\">    \n",
    "    In this step, the parsivar functions were used.\n",
    "</font>\n",
    "</div>"
   ]
  },
  {
   "cell_type": "code",
   "execution_count": 2,
   "metadata": {},
   "outputs": [],
   "source": [
    "from parsivar import Normalizer\n",
    "from parsivar import Tokenizer\n",
    "from parsivar import FindStems\n",
    "\n",
    "my_stemmer = FindStems()\n",
    "my_normalizer = Normalizer()\n",
    "my_tokenizer = Tokenizer()"
   ]
  },
  {
   "cell_type": "markdown",
   "metadata": {},
   "source": [
    "<div>\n",
    "    <font style=\"font-family:verdana\" size=\"3\" color=\"Black\">    \n",
    "        At first, I removed html tags, then I deleted some punctuation marks in English that we don't use them in Persian.\n",
    "    </font>\n",
    "</div>\n"
   ]
  },
  {
   "cell_type": "code",
   "execution_count": 3,
   "metadata": {},
   "outputs": [],
   "source": [
    "def denoise_text(text):    \n",
    "    # removing the html strips\n",
    "    soup = BeautifulSoup(text, \"html.parser\")\n",
    "    text = soup.get_text()\n",
    "    \n",
    "    pattern=r'[a-zA-Z]'\n",
    "    text=re.sub(pattern,' ',text)\n",
    "    \n",
    "    # string.punctuation is '!\"#$%&\\'()*+,-./:;<=>?@[\\\\]^_`{|}~'\n",
    "    notAllowedPunctuations = '\"#$%&\\'()*+/;<=>?@[\\\\]^`{|}~'    \n",
    "    table = str.maketrans(notAllowedPunctuations,str.ljust(' ', len(notAllowedPunctuations)),'')\n",
    "    text = text.translate(table) \n",
    "    \n",
    "    return text"
   ]
  },
  {
   "cell_type": "markdown",
   "metadata": {},
   "source": [
    "<div>\n",
    "<font style=\"font-family:verdana\" size=\"3\" color=\"Black\">    \n",
    "In function below, the path of data files is recieved as input, then %80 of the data files are separated as train data files and the rest of them, will assume as test data files. Also, the function, denoise_text(), is run for each part.\n",
    "</font>\n",
    "</div>"
   ]
  },
  {
   "cell_type": "code",
   "execution_count": 4,
   "metadata": {},
   "outputs": [],
   "source": [
    "def read_train_test_data(files_path):\n",
    "    texts = glob.glob(files_path)\n",
    "    texts.sort()\n",
    "    #shuffle(culture_texts)\n",
    "    #print(list(texts))\n",
    "    num_of_train_texts = int(0.8 * len(texts))\n",
    "    print(\"number_of_train_texts:\" , num_of_train_texts)\n",
    "    print(\"number_of_test_texts:\" , len(texts) - num_of_train_texts)\n",
    "    \n",
    "    train_texts = \"\"\n",
    "    test_text_list = []\n",
    "    for k in range(len(texts)):\n",
    "        text_file = texts[k]    \n",
    "        fb = open(text_file, \"r\",encoding=\"utf-8\")\n",
    "        if (k <= num_of_train_texts):\n",
    "            train_texts += (\" \" + denoise_text(fb.read()))\n",
    "        else:\n",
    "            test_text_list.append(denoise_text(fb.read()))\n",
    "           \n",
    "    return train_texts, test_text_list "
   ]
  },
  {
   "cell_type": "markdown",
   "metadata": {},
   "source": [
    "<div>\n",
    "<font style=\"font-family:verdana\" size=\"3\" color=\"Black\">    \n",
    "In the method below, the train data is recieved and is tokenized by words and characters.\n",
    "</font>\n",
    "</div>"
   ]
  },
  {
   "cell_type": "code",
   "execution_count": 5,
   "metadata": {},
   "outputs": [],
   "source": [
    "def tokenized_texts(train_texts):\n",
    "        \n",
    "    train_sents = my_tokenizer.tokenize_sentences(my_normalizer.normalize(train_texts))\n",
    "\n",
    "    #print(len(train_sents))\n",
    "    #print(\"sample sentence 2 of train_culture_sents:\\n\" + train_sents[2])\n",
    "\n",
    "    tokenized_word_train_text = []\n",
    "    plain_train_text = []\n",
    "    for s in train_sents:\n",
    "        words = my_tokenizer.tokenize_words(s)\n",
    "        words_stemming=[]\n",
    "        for w in words:\n",
    "            words_stemming.append(my_stemmer.convert_to_stem(w))\n",
    "        \n",
    "        tokenized_word_train_text.append(words_stemming)\n",
    "        \n",
    "        plain_train_text.append(s)\n",
    "        \n",
    "    #print(len(tokenized_word_train_text[2]))\n",
    "    #print(\"sample tokenized sentence 2 of train_culture_sents:\\n\" , tokenized_word_train_text[2]) \n",
    "    return tokenized_word_train_text, plain_train_text"
   ]
  },
  {
   "cell_type": "markdown",
   "metadata": {},
   "source": [
    "<div>\n",
    "<font style=\"font-family:Calibri;font-weight:bold;color:blue\" size=\"4\" >    \n",
    "Language Model Creation step\n",
    "</font>\n",
    "</div>"
   ]
  },
  {
   "cell_type": "markdown",
   "metadata": {},
   "source": [
    "<div>\n",
    "<font style=\"font-family:verdana\" size=\"3\" color=\"Black\">    \n",
    "The values 1 and 2 represent unigrams and bigrams, respectively. <br>\n",
    "The above function's second output should be used for unigrams, while the first output should be used for bigrams.\n",
    "</font>\n",
    "</div>"
   ]
  },
  {
   "cell_type": "markdown",
   "metadata": {},
   "source": [
    "<div>\n",
    "<font style=\"font-family:verdana\" size=\"3\" color=\"Black\">    \n",
    "If we apply the MLE model in the method below, we get Maximum Likelihood and no smoothing, whereas the Laplace model uses Add-one Smoothing.\n",
    "</font>\n",
    "</div>"
   ]
  },
  {
   "cell_type": "markdown",
   "metadata": {},
   "source": [
    "<div>\n",
    "<font style=\"font-family:verdana\" size=\"3\" color=\"Black\">    \n",
    "The nltk.padded_everygram_pipeline() function does tagging by adding tags to the beginning and end of sentences, then unigrams or bigrams, depends on the input, are generated.\n",
    "</font>\n",
    "</div>"
   ]
  },
  {
   "cell_type": "code",
   "execution_count": 6,
   "metadata": {},
   "outputs": [],
   "source": [
    "def create_lm_ngram(n, tokenized_word_train_text):\n",
    "\n",
    "    train_ngrams, vocab_ngrams = padded_everygram_pipeline(n, tokenized_word_train_text)\n",
    "        \n",
    "    #lm_ngram = MLE(n)\n",
    "    lm_ngram = Laplace(n)\n",
    "    #lm_ngram = Lidstone(1)\n",
    "    lm_ngram.fit(train_ngrams, vocab_ngrams)\n",
    "    print(lm_ngram.vocab)\n",
    "    return lm_ngram"
   ]
  },
  {
   "cell_type": "markdown",
   "metadata": {},
   "source": [
    "<div>\n",
    "<font style=\"font-family:verdana\" size=\"3\" color=\"Black\">    \n",
    "Four language models, including word unigrams, word bigrams, character unigrams, and character bigrams, are constructed and saved as four files with the extension '.pkl'.\n",
    "</font>\n",
    "</div>"
   ]
  },
  {
   "cell_type": "code",
   "execution_count": 7,
   "metadata": {},
   "outputs": [],
   "source": [
    "def create_lms_for_class(train_texts, class_name):\n",
    "    tokenized_word_train_text, plain_train_text = tokenized_texts(train_texts)\n",
    "\n",
    "    lm_unigram_word = create_lm_ngram(1, tokenized_word_train_text)\n",
    "    lm_bigram_word = create_lm_ngram(2, tokenized_word_train_text)\n",
    "    \n",
    "    lm_unigram_char = create_lm_ngram(1, plain_train_text)\n",
    "    lm_bigram_char = create_lm_ngram(2, plain_train_text)\n",
    "    \n",
    "    with open ('LMs\\\\lm_unigram_word_'+class_name+'.pkl','wb') as fout:\n",
    "        pickle.dump(lm_unigram_word,fout)\n",
    "        \n",
    "    with open ('LMs\\\\lm_bigram_word_'+class_name+'.pkl','wb') as fout:\n",
    "        pickle.dump(lm_bigram_word,fout)\n",
    "        \n",
    "    with open ('LMs\\\\lm_unigram_char_'+class_name+'.pkl','wb') as fout:\n",
    "        pickle.dump(lm_unigram_char,fout)\n",
    "        \n",
    "    with open ('LMs\\\\lm_bigram_char_'+class_name+'.pkl','wb') as fout:\n",
    "        pickle.dump(lm_bigram_char,fout)\n",
    "\n",
    "    return"
   ]
  },
  {
   "cell_type": "markdown",
   "metadata": {},
   "source": [
    "<div >\n",
    "<font style=\"font-family:verdana\" size=\"3\" color=\"Black\">    \n",
    "In this method, four files that mentioned above, will be loaded according to thier class name. \n",
    "</font>\n",
    "</div>"
   ]
  },
  {
   "cell_type": "code",
   "execution_count": 8,
   "metadata": {},
   "outputs": [],
   "source": [
    "def load_lms_for_class(class_name):\n",
    "    with open ('LMs\\\\lm_unigram_word_'+class_name+'.pkl','rb') as fin:\n",
    "        lm_unigram_word = pickle.load(fin)\n",
    "\n",
    "    with open ('LMs\\\\lm_bigram_word_'+class_name+'.pkl','rb') as fin:\n",
    "        lm_bigram_word = pickle.load(fin)\n",
    "\n",
    "    with open ('LMs\\\\lm_unigram_char_'+class_name+'.pkl','rb') as fin:\n",
    "        lm_unigram_char = pickle.load(fin)\n",
    "\n",
    "    with open ('LMs\\\\lm_bigram_char_'+class_name+'.pkl','rb') as fin:\n",
    "        lm_bigram_char = pickle.load(fin)\n",
    "\n",
    "    return lm_unigram_word, lm_bigram_word, lm_unigram_char, lm_bigram_char "
   ]
  },
  {
   "cell_type": "markdown",
   "metadata": {},
   "source": [
    "<div >\n",
    "<font style=\"font-family:verdana\" size=\"3\" color=\"Black\">    \n",
    "Now, for each class name, train files and test files will be loaded.\n",
    "</font>\n",
    "</div>"
   ]
  },
  {
   "cell_type": "code",
   "execution_count": 9,
   "metadata": {},
   "outputs": [
    {
     "name": "stdout",
     "output_type": "stream",
     "text": [
      "number_of_train_texts: 337\n",
      "number_of_test_texts: 85\n"
     ]
    }
   ],
   "source": [
    "train_cul_texts, test_cul_text_list = read_train_test_data(\"train\\\\culture\\\\*.txt\")"
   ]
  },
  {
   "cell_type": "code",
   "execution_count": 10,
   "metadata": {},
   "outputs": [
    {
     "name": "stdout",
     "output_type": "stream",
     "text": [
      "number_of_train_texts: 338\n",
      "number_of_test_texts: 85\n"
     ]
    }
   ],
   "source": [
    "train_fin_texts, test_fin_text_list = read_train_test_data(\"train\\\\finance\\\\*.txt\")"
   ]
  },
  {
   "cell_type": "code",
   "execution_count": 11,
   "metadata": {},
   "outputs": [
    {
     "name": "stdout",
     "output_type": "stream",
     "text": [
      "number_of_train_texts: 328\n",
      "number_of_test_texts: 82\n"
     ]
    }
   ],
   "source": [
    "train_pol_texts, test_pol_text_list = read_train_test_data(\"train\\\\politic\\\\*.txt\")"
   ]
  },
  {
   "cell_type": "code",
   "execution_count": 12,
   "metadata": {},
   "outputs": [
    {
     "name": "stdout",
     "output_type": "stream",
     "text": [
      "number_of_train_texts: 320\n",
      "number_of_test_texts: 80\n"
     ]
    }
   ],
   "source": [
    "train_soc_texts, test_soc_text_list = read_train_test_data(\"train\\\\social\\\\*.txt\")"
   ]
  },
  {
   "cell_type": "code",
   "execution_count": 13,
   "metadata": {},
   "outputs": [
    {
     "name": "stdout",
     "output_type": "stream",
     "text": [
      "number_of_train_texts: 352\n",
      "number_of_test_texts: 89\n"
     ]
    }
   ],
   "source": [
    "train_spr_texts, test_spr_text_list = read_train_test_data(\"train\\\\sport\\\\*.txt\")"
   ]
  },
  {
   "cell_type": "code",
   "execution_count": 14,
   "metadata": {},
   "outputs": [
    {
     "name": "stdout",
     "output_type": "stream",
     "text": [
      "number_of_train_texts: 228\n",
      "number_of_test_texts: 57\n"
     ]
    }
   ],
   "source": [
    "train_tec_texts, test_tec_text_list = read_train_test_data(\"train\\\\technology\\\\*.txt\")"
   ]
  },
  {
   "cell_type": "markdown",
   "metadata": {},
   "source": [
    "<div>\n",
    "<font style=\"font-family:verdana\" size=\"3\" color=\"Black\">  \n",
    "With the call to create_lms_for_class(), four language models will be constructed and saved to disc for each class name.\n",
    "</font>\n",
    "</div>"
   ]
  },
  {
   "cell_type": "markdown",
   "metadata": {},
   "source": [
    "<div >\n",
    "<font style=\"font-family:verdana\" size=\"3\" color=\"Black\">    \n",
    "The vocabulary size in character-based models ranges from 50 to 60, which includes characters such as '.', ',',...\n",
    "<br>However, in word-based models, the vocabulary size is significantly larger, and depending on the class name, it can range from 7000 to 11000, which are the number of unique words in the input data files.\n",
    "</font>\n",
    "</div>"
   ]
  },
  {
   "cell_type": "markdown",
   "metadata": {},
   "source": [
    "<div>\n",
    "<font style=\"font-family:verdana\" size=\"3\" color=\"Black\">    \n",
    "It is important to note that, if I hadn't called denoise_text() at preprocessing step, the vocabulary size would have ranged from 105 to 107 for character-based models and from 9000 to 14000 for word-based models.\n",
    "</font>\n",
    "</div>"
   ]
  },
  {
   "cell_type": "markdown",
   "metadata": {},
   "source": [
    "<div>\n",
    "<font style=\"font-family:verdana\" size=\"3\" color=\"Black\">   \n",
    "A further thing to notice is that the size of a language model file ranges from 10KB to 20KB, whereas word models are around 2.5MB. It is reasonable, depending on the size of the vocabulary.\n",
    "</font>\n",
    "</div>"
   ]
  },
  {
   "cell_type": "code",
   "execution_count": null,
   "metadata": {},
   "outputs": [],
   "source": [
    "create_lms_for_class(train_cul_texts,'cul')\n",
    "create_lms_for_class(train_cul_texts,'fin')\n",
    "create_lms_for_class(train_cul_texts,'pol')\n",
    "create_lms_for_class(train_cul_texts,'soc')\n",
    "create_lms_for_class(train_cul_texts,'spr')\n",
    "create_lms_for_class(train_cul_texts,'tec')"
   ]
  },
  {
   "cell_type": "markdown",
   "metadata": {},
   "source": [
    "<div>\n",
    "<font style=\"font-family:Calibri;font-weight:bold;color:blue\" size=\"4\" >  \n",
    "Perplexity metric step\n",
    "</font>\n",
    "</div>"
   ]
  },
  {
   "cell_type": "markdown",
   "metadata": {},
   "source": [
    "<div>\n",
    "<font style=\"font-family:verdana\" size=\"3\" color=\"Black\">    \n",
    "At first, I created four language models for each class, total 24 models.\n",
    "</font>\n",
    "</div>"
   ]
  },
  {
   "cell_type": "code",
   "execution_count": 15,
   "metadata": {},
   "outputs": [],
   "source": [
    "lm_unigram_word_cul, lm_bigram_word_cul, lm_unigram_char_cul, lm_bigram_char_cul = load_lms_for_class('cul')\n",
    "lm_unigram_word_fin, lm_bigram_word_fin, lm_unigram_char_fin, lm_bigram_char_fin = load_lms_for_class('fin')\n",
    "lm_unigram_word_pol, lm_bigram_word_pol, lm_unigram_char_pol, lm_bigram_char_pol = load_lms_for_class('pol')\n",
    "lm_unigram_word_soc, lm_bigram_word_soc, lm_unigram_char_soc, lm_bigram_char_soc = load_lms_for_class('soc')\n",
    "lm_unigram_word_spr, lm_bigram_word_spr, lm_unigram_char_spr, lm_bigram_char_spr = load_lms_for_class('spr')\n",
    "lm_unigram_word_tec, lm_bigram_word_tec, lm_unigram_char_tec, lm_bigram_char_tec = load_lms_for_class('tec')"
   ]
  },
  {
   "cell_type": "markdown",
   "metadata": {},
   "source": [
    "<div>\n",
    "<font style=\"font-family:verdana\" size=\"3\" color=\"Black\">   \n",
    "In evaluate_lm() method, test data is recieved and their classes determined based on perplexity metric. <br>\n",
    "- lm_type input could be 'word' or 'char'<br>\n",
    "- input n=1 means unigram, and n=2 means bigram<br>\n",
    "- input test_text_list is test data of all classes<br>\n",
    "- inputs lm_cul, lm_fin, lm_pol, lm_soc, lm_spr, and lm_tec are corresponding with the six language models for six different classes\n",
    "</font>\n",
    "</div>"
   ]
  },
  {
   "cell_type": "markdown",
   "metadata": {},
   "source": [
    "<div>\n",
    "<font style=\"font-family:verdana\" size=\"3\" color=\"Black\">    \n",
    "Each input text, will be assigned to the language model that has minimum perplexity,\n",
    "</font>\n",
    "</div>"
   ]
  },
  {
   "cell_type": "markdown",
   "metadata": {},
   "source": [
    "<div>\n",
    "<font style=\"font-family:verdana\" size=\"3\" color=\"Black\">    \n",
    "This method has two outputs. the y_pred output displays the assigned class and the second output displays the value of perplexity metric.\n",
    "</font>\n",
    "</div>"
   ]
  },
  {
   "cell_type": "markdown",
   "metadata": {},
   "source": [
    "<div>\n",
    "<font style=\"font-family:verdana\" size=\"3\" color=\"Black\">   \n",
    "It is important to note that if language models are constructed using MLE, the computation time of the perplexity metric will be fast due to the large number of 0 probabilities.<br><br>\n",
    "However, if we employed smoothing, even the simplest one, add-one, the computation pace would be significantly slower due to the large number of non-zero probability.    \n",
    "</font>\n",
    "</div>"
   ]
  },
  {
   "cell_type": "code",
   "execution_count": 16,
   "metadata": {},
   "outputs": [],
   "source": [
    "def evaluate_lm(lm_type, n, test_text_list, lm_cul, lm_fin, lm_pol, lm_soc, lm_spr, lm_tec):\n",
    "    y_pred = []\n",
    "    perp_pred = []\n",
    "    for test_text in test_text_list:\n",
    "        test_sents = my_tokenizer.tokenize_sentences(my_normalizer.normalize(test_text))\n",
    "\n",
    "        tokenized_test_text = []\n",
    "        for s in test_sents:\n",
    "            if (lm_type == 'word'):\n",
    "                words = my_tokenizer.tokenize_words(s)\n",
    "                words_stemming=[]\n",
    "                for w in words:\n",
    "                    words_stemming.append(my_stemmer.convert_to_stem(w))\n",
    "                tokenized_test_text.append(words_stemming)\n",
    "            elif (lm_type == 'char'):\n",
    "                tokenized_test_text.append(s)\n",
    "        #print(list(tokenized_test_text))        \n",
    "        perplexity_test = []\n",
    "        #--------------------------------------------------\n",
    "        test_data, _ = padded_everygram_pipeline(n, tokenized_test_text)        \n",
    "        perplexity_test_cul = []        \n",
    "        for test in test_data:\n",
    "            try:\n",
    "                perplexity_test_cul.append(lm_cul.perplexity(test))\n",
    "            except:\n",
    "                perplexity_test_cul.append(100000)\n",
    "        perplexity_test.append(min(perplexity_test_cul))\n",
    "        #--------------------------------------------------   \n",
    "        test_data, _ = padded_everygram_pipeline(n, tokenized_test_text)\n",
    "        perplexity_test_fin = []        \n",
    "        for test in test_data:\n",
    "            try:    \n",
    "                perplexity_test_fin.append(lm_fin.perplexity(test))\n",
    "            except:\n",
    "                perplexity_test_fin.append(100000)\n",
    "        perplexity_test.append(min(perplexity_test_fin))\n",
    "        #--------------------------------------------------    \n",
    "        test_data, _ = padded_everygram_pipeline(n, tokenized_test_text)        \n",
    "        perplexity_test_pol = []        \n",
    "        for test in test_data:\n",
    "            try:\n",
    "                perplexity_test_pol.append(lm_pol.perplexity(test))\n",
    "            except:\n",
    "                perplexity_test_pol.append(100000)\n",
    "        perplexity_test.append(min(perplexity_test_pol))                \n",
    "        #--------------------------------------------------   \n",
    "        test_data, _ = padded_everygram_pipeline(n, tokenized_test_text)        \n",
    "        perplexity_test_soc = []        \n",
    "        for test in test_data:\n",
    "            try:\n",
    "                perplexity_test_soc.append(lm_soc.perplexity(test))\n",
    "            except:\n",
    "                perplexity_test_soc.append(100000)\n",
    "        perplexity_test.append(min(perplexity_test_soc))                                \n",
    "        #--------------------------------------------------  \n",
    "        test_data, _ = padded_everygram_pipeline(n, tokenized_test_text)        \n",
    "        perplexity_test_spr = []        \n",
    "        for test in test_data:\n",
    "            try:\n",
    "                perplexity_test_spr.append(lm_spr.perplexity(test))\n",
    "            except:\n",
    "                perplexity_test_spr.append(100000)\n",
    "        perplexity_test.append(min(perplexity_test_spr))                                \n",
    "        #--------------------------------------------------   \n",
    "        test_data, _ = padded_everygram_pipeline(n, tokenized_test_text)        \n",
    "        perplexity_test_tec = []        \n",
    "        for test in test_data:\n",
    "            try:\n",
    "                perplexity_test_tec.append(lm_tec.perplexity(test))\n",
    "            except:\n",
    "                perplexity_test_tec.append(100000)\n",
    "        perplexity_test.append(min(perplexity_test_tec))                                                \n",
    "        #--------------------------------------------------    \n",
    "        pred_indx = perplexity_test.index(min(perplexity_test))\n",
    "        y_pred.append(pred_indx)\n",
    "        perp_pred.append(min(perplexity_test))\n",
    "    return y_pred, perp_pred"
   ]
  },
  {
   "cell_type": "markdown",
   "metadata": {},
   "source": [
    "<div>\n",
    "<font style=\"font-family:verdana\" size=\"3\" color=\"Black\">    \n",
    "Here, all the assessed data are merged and made a one list\n",
    "</font>\n",
    "</div>"
   ]
  },
  {
   "cell_type": "code",
   "execution_count": 17,
   "metadata": {},
   "outputs": [
    {
     "name": "stdout",
     "output_type": "stream",
     "text": [
      "472\n"
     ]
    }
   ],
   "source": [
    "all_test_texts = test_cul_text_list + test_fin_text_list + test_pol_text_list \n",
    "all_test_texts += test_soc_text_list + test_spr_text_list + test_tec_text_list\n",
    "print(len(all_test_texts))"
   ]
  },
  {
   "cell_type": "code",
   "execution_count": 18,
   "metadata": {},
   "outputs": [
    {
     "name": "stdout",
     "output_type": "stream",
     "text": [
      "[0, 0, 0, 0, 0, 0, 0, 0, 0, 0, 0, 0, 0, 0, 0, 0, 0, 0, 0, 0, 0, 0, 0, 0, 0, 0, 0, 0, 0, 0, 0, 0, 0, 0, 0, 0, 0, 0, 0, 0, 0, 0, 0, 0, 0, 0, 0, 0, 0, 0, 0, 0, 0, 0, 0, 0, 0, 0, 0, 0, 0, 0, 0, 0, 0, 0, 0, 0, 0, 0, 0, 0, 0, 0, 0, 0, 0, 0, 0, 0, 0, 0, 0, 0, 1, 1, 1, 1, 1, 1, 1, 1, 1, 1, 1, 1, 1, 1, 1, 1, 1, 1, 1, 1, 1, 1, 1, 1, 1, 1, 1, 1, 1, 1, 1, 1, 1, 1, 1, 1, 1, 1, 1, 1, 1, 1, 1, 1, 1, 1, 1, 1, 1, 1, 1, 1, 1, 1, 1, 1, 1, 1, 1, 1, 1, 1, 1, 1, 1, 1, 1, 1, 1, 1, 1, 1, 1, 1, 1, 1, 1, 1, 1, 1, 1, 1, 1, 1, 2, 2, 2, 2, 2, 2, 2, 2, 2, 2, 2, 2, 2, 2, 2, 2, 2, 2, 2, 2, 2, 2, 2, 2, 2, 2, 2, 2, 2, 2, 2, 2, 2, 2, 2, 2, 2, 2, 2, 2, 2, 2, 2, 2, 2, 2, 2, 2, 2, 2, 2, 2, 2, 2, 2, 2, 2, 2, 2, 2, 2, 2, 2, 2, 2, 2, 2, 2, 2, 2, 2, 2, 2, 2, 2, 2, 2, 2, 2, 2, 2, 3, 3, 3, 3, 3, 3, 3, 3, 3, 3, 3, 3, 3, 3, 3, 3, 3, 3, 3, 3, 3, 3, 3, 3, 3, 3, 3, 3, 3, 3, 3, 3, 3, 3, 3, 3, 3, 3, 3, 3, 3, 3, 3, 3, 3, 3, 3, 3, 3, 3, 3, 3, 3, 3, 3, 3, 3, 3, 3, 3, 3, 3, 3, 3, 3, 3, 3, 3, 3, 3, 3, 3, 3, 3, 3, 3, 3, 3, 3, 4, 4, 4, 4, 4, 4, 4, 4, 4, 4, 4, 4, 4, 4, 4, 4, 4, 4, 4, 4, 4, 4, 4, 4, 4, 4, 4, 4, 4, 4, 4, 4, 4, 4, 4, 4, 4, 4, 4, 4, 4, 4, 4, 4, 4, 4, 4, 4, 4, 4, 4, 4, 4, 4, 4, 4, 4, 4, 4, 4, 4, 4, 4, 4, 4, 4, 4, 4, 4, 4, 4, 4, 4, 4, 4, 4, 4, 4, 4, 4, 4, 4, 4, 4, 4, 4, 4, 4, 5, 5, 5, 5, 5, 5, 5, 5, 5, 5, 5, 5, 5, 5, 5, 5, 5, 5, 5, 5, 5, 5, 5, 5, 5, 5, 5, 5, 5, 5, 5, 5, 5, 5, 5, 5, 5, 5, 5, 5, 5, 5, 5, 5, 5, 5, 5, 5, 5, 5, 5, 5, 5, 5, 5, 5]\n"
     ]
    }
   ],
   "source": [
    "y_test = [0]*len(test_cul_text_list) \n",
    "y_test += [1]*len(test_fin_text_list)\n",
    "y_test += [2]*len(test_pol_text_list)\n",
    "y_test += [3]*len(test_soc_text_list)\n",
    "y_test += [4]*len(test_spr_text_list)\n",
    "y_test += [5]*len(test_tec_text_list)\n",
    "print(y_test)"
   ]
  },
  {
   "cell_type": "markdown",
   "metadata": {},
   "source": [
    "<div>\n",
    "<font style=\"font-family:verdana\" size=\"3\" color=\"Black\">   \n",
    "I continued by computing f1 metric and confusion matrix.\n",
    "</font>\n",
    "</div>"
   ]
  },
  {
   "cell_type": "markdown",
   "metadata": {},
   "source": [
    "<div>\n",
    "<font style=\"font-family:verdana;font-weight:bold;color:blue\" size=\"3\">  \n",
    "Character-based Unigram Language Model Assessment Results\n",
    "</font>\n",
    "</div>"
   ]
  },
  {
   "cell_type": "code",
   "execution_count": 59,
   "metadata": {},
   "outputs": [
    {
     "name": "stdout",
     "output_type": "stream",
     "text": [
      "f1_score :  0.3093220338983051\n",
      "precision :  0.3093220338983051\n",
      "recall :  0.3093220338983051\n",
      "[[ 9  4 44 10 16  1]\n",
      " [10  7 34 14 19  0]\n",
      " [12  2 53  2 11  1]\n",
      " [13  3 32 14 16  1]\n",
      " [ 8  3 29 12 36  0]\n",
      " [ 2  2 10  5 10 27]]\n"
     ]
    }
   ],
   "source": [
    "y_pred, perp_pred = evaluate_lm('char', 1, all_test_texts, \n",
    "                                        lm_unigram_char_cul, \n",
    "                                        lm_unigram_char_fin, \n",
    "                                        lm_unigram_char_pol, \n",
    "                                        lm_unigram_char_soc, \n",
    "                                        lm_unigram_char_spr, \n",
    "                                        lm_unigram_char_tec)\n",
    "\n",
    "print(\"f1_score : \", f1_score(y_test, y_pred, average=\"micro\"))\n",
    "print(\"precision : \", precision_score(y_test, y_pred, average=\"micro\"))\n",
    "print(\"recall : \", recall_score(y_test, y_pred, average=\"micro\")) \n",
    "print(confusion_matrix(y_test, y_pred))"
   ]
  },
  {
   "cell_type": "code",
   "execution_count": 61,
   "metadata": {},
   "outputs": [
    {
     "data": {
      "text/plain": [
       "<matplotlib.axes._subplots.AxesSubplot at 0x118b08d0>"
      ]
     },
     "execution_count": 61,
     "metadata": {},
     "output_type": "execute_result"
    },
    {
     "data": {
      "image/png": "[encoded data removed]",
      "text/plain": [
       "<Figure size 720x432 with 2 Axes>"
      ]
     },
     "metadata": {
      "needs_background": "light"
     },
     "output_type": "display_data"
    }
   ],
   "source": [
    "import seaborn as sns\n",
    "import pandas as pd\n",
    "import matplotlib.pyplot as plt\n",
    "\n",
    "cm =confusion_matrix(y_test, y_pred)  \n",
    "index = ['Culture','finance','politic','social','sport','technology']  \n",
    "columns = ['Culture','finance','politic','social','sport','technology']  \n",
    "cm_df = pd.DataFrame(cm,columns,index)                      \n",
    "plt.figure(figsize=(10,6))  \n",
    "sns.heatmap(cm_df, annot=True)"
   ]
  },
  {
   "cell_type": "markdown",
   "metadata": {},
   "source": [
    "<div>\n",
    "<font style=\"font-family:verdana;font-weight:bold;color:blue\" size=\"3\">    \n",
    "Character-based Bigram Language Model Assessment Results\n",
    "</font>\n",
    "</div>"
   ]
  },
  {
   "cell_type": "code",
   "execution_count": 63,
   "metadata": {},
   "outputs": [
    {
     "name": "stdout",
     "output_type": "stream",
     "text": [
      "f1_score :  0.5572033898305084\n",
      "precision :  0.5572033898305084\n",
      "recall :  0.5572033898305084\n",
      "[[28  8 24 10 11  3]\n",
      " [ 4 37 24 13  1  5]\n",
      " [ 9  6 53  7  5  1]\n",
      " [ 9 11 19 28  9  3]\n",
      " [ 3  0  5  5 74  1]\n",
      " [ 1  4  2  4  2 43]]\n"
     ]
    }
   ],
   "source": [
    "y_pred, perp_pred = evaluate_lm('char', 2, all_test_texts, \n",
    "                                        lm_bigram_char_cul, \n",
    "                                        lm_bigram_char_fin, \n",
    "                                        lm_bigram_char_pol, \n",
    "                                        lm_bigram_char_soc, \n",
    "                                        lm_bigram_char_spr, \n",
    "                                        lm_bigram_char_tec)\n",
    "\n",
    "print(\"f1_score : \", f1_score(y_test, y_pred, average=\"micro\"))\n",
    "print(\"precision : \", precision_score(y_test, y_pred, average=\"micro\"))\n",
    "print(\"recall : \", recall_score(y_test, y_pred, average=\"micro\")) \n",
    "print(confusion_matrix(y_test, y_pred))"
   ]
  },
  {
   "cell_type": "code",
   "execution_count": 64,
   "metadata": {},
   "outputs": [
    {
     "data": {
      "text/plain": [
       "<matplotlib.axes._subplots.AxesSubplot at 0x1493de80>"
      ]
     },
     "execution_count": 64,
     "metadata": {},
     "output_type": "execute_result"
    },
    {
     "data": {
      "image/png": "[encoded data removed]",
      "text/plain": [
       "<Figure size 720x432 with 2 Axes>"
      ]
     },
     "metadata": {
      "needs_background": "light"
     },
     "output_type": "display_data"
    }
   ],
   "source": [
    "cm =confusion_matrix(y_test, y_pred)  \n",
    "index = ['Culture','finance','politic','social','sport','technology']  \n",
    "columns = ['Culture','finance','politic','social','sport','technology']  \n",
    "cm_df = pd.DataFrame(cm,columns,index)                      \n",
    "plt.figure(figsize=(10,6))  \n",
    "sns.heatmap(cm_df, annot=True)"
   ]
  },
  {
   "cell_type": "markdown",
   "metadata": {},
   "source": [
    "<div>\n",
    "<font style=\"font-family:verdana\" size=\"3\" color=\"Black\"> \n",
    "If we compare unigram and bigram character-based language models, it seems that bigram models works better. F1 measure value for unigram is 0.33, and for bigram is 0.55.\n",
    "</font>\n",
    "</div>"
   ]
  },
  {
   "cell_type": "markdown",
   "metadata": {},
   "source": [
    "<div>\n",
    "<font style=\"font-family:verdana\" size=\"3\" color=\"Black\">   \n",
    "For example, out of 56 samples in the 'Technology' class, 43 were correctly identified, whereas one was incorrectly identified as 'Sport', three as 'Social', one as 'Political', five as 'Finance', and three as 'Culture'.\n",
    "</font>\n",
    "</div>"
   ]
  },
  {
   "cell_type": "markdown",
   "metadata": {},
   "source": [
    "<div>\n",
    "<font style=\"font-family:verdana\" size=\"3\" color=\"Black\">    \n",
    "As can be seen, the worst throughput has occured when identifying 'Politic' class samples, as many of them hve been identified as 'Finance' or 'Culture'.\n",
    "</font>\n",
    "</div>"
   ]
  },
  {
   "cell_type": "markdown",
   "metadata": {},
   "source": [
    "<div>\n",
    "<font style=\"font-family:verdana\" size=\"3\" color=\"Black\">  \n",
    "Words in three classes, 'Finance', 'Politics', and 'Culture' appear to be similar, requiring more data for training models; however, output in the 'Technology' and 'Sport' classes, which contain more professional words, is significantly higher.\n",
    "</font>\n",
    "</div>"
   ]
  },
  {
   "cell_type": "markdown",
   "metadata": {},
   "source": [
    "<div>\n",
    "<font style=\"font-family:verdana;font-weight:bold;color:blue\" size=\"3\">    \n",
    "Word-based Unigram Language Model Assessment Results\n",
    "</font>\n",
    "</div>"
   ]
  },
  {
   "cell_type": "code",
   "execution_count": 19,
   "metadata": {},
   "outputs": [
    {
     "name": "stdout",
     "output_type": "stream",
     "text": [
      "f1_score :  0.6716101694915254\n",
      "precision :  0.6716101694915254\n",
      "recall :  0.6716101694915254\n",
      "[[29  5 25 15  3  7]\n",
      " [ 1 65  9  3  0  6]\n",
      " [ 6 10 59  3  3  0]\n",
      " [ 5 12 16 36  5  5]\n",
      " [ 1  2  2  2 81  0]\n",
      " [ 2  3  3  1  0 47]]\n"
     ]
    }
   ],
   "source": [
    "y_pred, perp_pred = evaluate_lm('word', 1, all_test_texts, \n",
    "                                        lm_unigram_word_cul, \n",
    "                                        lm_unigram_word_fin, \n",
    "                                        lm_unigram_word_pol, \n",
    "                                        lm_unigram_word_soc, \n",
    "                                        lm_unigram_word_spr, \n",
    "                                        lm_unigram_word_tec)\n",
    "\n",
    "print(\"f1_score : \", f1_score(y_test, y_pred, average=\"micro\"))\n",
    "print(\"precision : \", precision_score(y_test, y_pred, average=\"micro\"))\n",
    "print(\"recall : \", recall_score(y_test, y_pred, average=\"micro\")) \n",
    "print(confusion_matrix(y_test, y_pred))"
   ]
  },
  {
   "cell_type": "markdown",
   "metadata": {},
   "source": [
    "<div>\n",
    "<font style=\"font-family:verdana\" size=\"3\" color=\"Black\">    \n",
    "As can be seen, the Politics class produces the worst results. The majority of them have been classed as Cultural or Social.\n",
    "</font>\n",
    "</div>"
   ]
  },
  {
   "cell_type": "code",
   "execution_count": 22,
   "metadata": {},
   "outputs": [
    {
     "data": {
      "text/plain": [
       "<matplotlib.axes._subplots.AxesSubplot at 0x13b54e48>"
      ]
     },
     "execution_count": 22,
     "metadata": {},
     "output_type": "execute_result"
    },
    {
     "data": {
      "image/png": "[encoded data removed]",
      "text/plain": [
       "<Figure size 720x432 with 2 Axes>"
      ]
     },
     "metadata": {
      "needs_background": "light"
     },
     "output_type": "display_data"
    }
   ],
   "source": [
    "import seaborn as sns\n",
    "import pandas as pd\n",
    "import matplotlib.pyplot as plt\n",
    "\n",
    "cm =confusion_matrix(y_test, y_pred)  \n",
    "index = ['Culture','finance','politic','social','sport','technology']  \n",
    "columns = ['Culture','finance','politic','social','sport','technology']  \n",
    "cm_df = pd.DataFrame(cm,columns,index)                      \n",
    "plt.figure(figsize=(10,6))  \n",
    "sns.heatmap(cm_df, annot=True)"
   ]
  },
  {
   "cell_type": "markdown",
   "metadata": {},
   "source": [
    "<div>\n",
    "<font style=\"font-family:verdana;font-weight:bold;color:blue\" size=\"3\">    \n",
    "Word-based Bigram Language Model Assessment Results\n",
    "\n",
    "</font>\n",
    "</div>"
   ]
  },
  {
   "cell_type": "code",
   "execution_count": 23,
   "metadata": {},
   "outputs": [
    {
     "name": "stdout",
     "output_type": "stream",
     "text": [
      "f1_score :  0.16101694915254236\n",
      "precision :  0.16101694915254236\n",
      "recall :  0.16101694915254236\n",
      "[[ 3  3  0  0  0 78]\n",
      " [ 0  2  0  0  0 82]\n",
      " [ 2  2  7  0  1 69]\n",
      " [ 0  2  0  1  1 75]\n",
      " [ 0  0  1  0  7 80]\n",
      " [ 0  0  0  0  0 56]]\n"
     ]
    }
   ],
   "source": [
    "y_pred, perp_pred = evaluate_lm('word', 2, all_test_texts, \n",
    "                                        lm_bigram_word_cul, \n",
    "                                        lm_bigram_word_fin, \n",
    "                                        lm_bigram_word_pol, \n",
    "                                        lm_bigram_word_soc, \n",
    "                                        lm_bigram_word_spr, \n",
    "                                        lm_bigram_word_tec)\n",
    "\n",
    "print(\"f1_score : \", f1_score(y_test, y_pred, average=\"micro\"))\n",
    "print(\"precision : \", precision_score(y_test, y_pred, average=\"micro\"))\n",
    "print(\"recall : \", recall_score(y_test, y_pred, average=\"micro\")) \n",
    "print(confusion_matrix(y_test, y_pred))"
   ]
  },
  {
   "cell_type": "code",
   "execution_count": 24,
   "metadata": {},
   "outputs": [
    {
     "data": {
      "text/plain": [
       "<matplotlib.axes._subplots.AxesSubplot at 0x13c5b160>"
      ]
     },
     "execution_count": 24,
     "metadata": {},
     "output_type": "execute_result"
    },
    {
     "data": {
      "image/png": "[encoded data removed]",
      "text/plain": [
       "<Figure size 720x432 with 2 Axes>"
      ]
     },
     "metadata": {
      "needs_background": "light"
     },
     "output_type": "display_data"
    }
   ],
   "source": [
    "cm =confusion_matrix(y_test, y_pred)  \n",
    "index = ['Culture','finance','politic','social','sport','technology']  \n",
    "columns = ['Culture','finance','politic','social','sport','technology']  \n",
    "cm_df = pd.DataFrame(cm,columns,index)                      \n",
    "plt.figure(figsize=(10,6))  \n",
    "sns.heatmap(cm_df, annot=True)"
   ]
  },
  {
   "cell_type": "markdown",
   "metadata": {},
   "source": [
    "<div>\n",
    "<font style=\"font-family:verdana\" size=\"3\" color=\"Black\">    \n",
    "The findings of word-based bigram LMs are not logical; it appears that there is an issue with the input parameters.\n",
    "</font>\n",
    "</div>"
   ]
  },
  {
   "cell_type": "markdown",
   "metadata": {},
   "source": [
    "<div>\n",
    "<font style=\"font-family:Calibri;font-weight:bold;color:blue\" size=\"4\" >    \n",
    "Test Data Assessment step\n",
    "</font>\n",
    "</div>"
   ]
  },
  {
   "cell_type": "markdown",
   "metadata": {},
   "source": [
    "<div>\n",
    "<font style=\"font-family:verdana\" size=\"3\" color=\"Black\">    \n",
    "First, all 600 test data files were read and aggregated into a single list after the preprocessing step.</font>\n",
    "</div>"
   ]
  },
  {
   "cell_type": "markdown",
   "metadata": {},
   "source": [
    "<div>\n",
    "<font style=\"font-family:verdana\" size=\"3\" color=\"Black\">    \n",
    "Then assessment was done based on the word-based unigram LM, as it had the best throughput in the previous step.\n",
    "</font>\n",
    "</div>"
   ]
  },
  {
   "cell_type": "code",
   "execution_count": 25,
   "metadata": {},
   "outputs": [],
   "source": [
    "texts = glob.glob(\"test\\\\*.txt\")\n",
    "texts.sort()\n",
    "test_text_list = []\n",
    "for k in range(len(texts)):\n",
    "    text_file = texts[k]    \n",
    "    fb = open(text_file, \"r\",encoding=\"utf-8\")\n",
    "    test_text_list.append(denoise_text(fb.read()))\n"
   ]
  },
  {
   "cell_type": "code",
   "execution_count": 26,
   "metadata": {},
   "outputs": [
    {
     "name": "stdout",
     "output_type": "stream",
     "text": [
      "600\n"
     ]
    }
   ],
   "source": [
    "print(len(test_text_list))"
   ]
  },
  {
   "cell_type": "code",
   "execution_count": 27,
   "metadata": {},
   "outputs": [
    {
     "name": "stdout",
     "output_type": "stream",
     "text": [
      "[1, 1, 5, 3, 3, 0, 1, 1, 1, 2, 1, 1, 3, 5, 2, 2, 1, 4, 0, 1, 1, 0, 3, 3, 2, 1, 1, 2, 2, 1, 1, 4, 2, 2, 5, 4, 2, 1, 3, 2, 1, 0, 4, 3, 2, 2, 1, 4, 2, 2, 5, 0, 2, 2, 4, 1, 5, 1, 2, 5, 1, 1, 1, 3, 4, 4, 1, 1, 1, 3, 3, 4, 1, 2, 2, 3, 1, 0, 2, 1, 1, 1, 0, 1, 4, 0, 2, 3, 1, 2, 0, 2, 0, 0, 1, 2, 1, 2, 3, 1, 3, 2, 1, 5, 2, 5, 3, 1, 3, 2, 4, 4, 0, 1, 5, 3, 0, 0, 1, 2, 2, 1, 1, 3, 1, 5, 1, 1, 2, 0, 1, 2, 2, 2, 0, 1, 2, 2, 1, 2, 3, 2, 1, 1, 1, 1, 2, 3, 2, 2, 1, 2, 3, 0, 1, 5, 2, 2, 2, 1, 4, 1, 1, 2, 5, 0, 2, 4, 3, 1, 3, 2, 1, 2, 2, 3, 2, 2, 3, 2, 5, 4, 4, 4, 4, 4, 1, 4, 4, 4, 2, 4, 4, 1, 2, 0, 2, 2, 5, 2, 4, 2, 4, 1, 4, 4, 4, 4, 0, 4, 4, 1, 4, 4, 4, 1, 3, 4, 1, 0, 4, 2, 1, 5, 5, 4, 5, 4, 3, 4, 4, 1, 4, 0, 5, 3, 2, 3, 3, 3, 3, 5, 4, 4, 2, 4, 2, 2, 4, 0, 2, 3, 2, 2, 3, 2, 1, 3, 0, 0, 3, 3, 5, 0, 2, 4, 2, 4, 3, 4, 2, 4, 0, 1, 2, 4, 2, 2, 4, 4, 4, 2, 2, 3, 1, 2, 2, 4, 4, 4, 1, 3, 2, 0, 3, 2, 2, 2, 0, 3, 3, 3, 4, 3, 1, 2, 1, 1, 2, 2, 2, 2, 2, 5, 3, 4, 4, 4, 4, 2, 2, 4, 0, 5, 4, 4, 0, 2, 2, 4, 4, 4, 1, 4, 4, 4, 2, 5, 1, 3, 0, 4, 2, 2, 0, 2, 0, 1, 2, 3, 1, 3, 4, 3, 0, 3, 5, 1, 2, 2, 1, 2, 4, 4, 2, 2, 0, 2, 3, 2, 2, 3, 3, 2, 4, 3, 3, 5, 1, 1, 2, 3, 1, 2, 2, 2, 3, 4, 2, 3, 4, 0, 2, 2, 3, 2, 2, 2, 3, 1, 5, 1, 2, 1, 3, 4, 4, 1, 2, 2, 0, 2, 2, 3, 3, 5, 1, 2, 2, 2, 4, 4, 3, 2, 3, 2, 2, 4, 4, 2, 5, 4, 4, 3, 3, 2, 0, 1, 1, 2, 4, 5, 2, 3, 2, 3, 4, 3, 4, 2, 4, 2, 1, 4, 4, 4, 2, 2, 3, 1, 1, 0, 2, 0, 2, 1, 2, 2, 4, 2, 0, 1, 4, 4, 2, 3, 4, 4, 5, 2, 3, 2, 5, 4, 4, 4, 4, 2, 0, 3, 4, 2, 1, 2, 1, 3, 3, 4, 4, 5, 2, 3, 5, 5, 5, 5, 5, 5, 4, 1, 5, 5, 5, 2, 5, 5, 5, 3, 5, 5, 5, 5, 5, 5, 5, 2, 5, 5, 2, 2, 4, 5, 5, 5, 5, 5, 5, 5, 4, 5, 5, 5, 5, 2, 5, 5, 5, 5, 2, 2, 2, 5, 5, 5, 5, 5, 5, 5, 2, 5, 5, 5, 5, 5, 5, 4, 5, 2, 5, 5, 5, 5, 5, 5, 5, 2, 5, 5, 5, 5, 5, 5, 5, 5, 5, 5, 5, 4, 5, 5, 1, 5, 5, 5, 1, 2, 5, 5, 5, 5]\n",
      "[1, 1, 5, 3, 3, 0, 1, 1, 1, 2, 1, 1, 3, 5, 2, 2, 1, 4, 0, 1, 1, 0, 3, 3, 2, 1, 1, 2, 2, 1, 1, 4, 2, 2, 5, 4, 2, 1, 3, 2, 1, 0, 4, 3, 2, 2, 1, 4, 2, 2, 5, 0, 2, 2, 4, 1, 5, 1, 2, 5, 1, 1, 1, 3, 4, 4, 1, 1, 1, 3, 3, 4, 1, 2, 2, 3, 1, 0, 2, 1, 1, 1, 0, 1, 4, 0, 2, 3, 1, 2, 0, 2, 0, 0, 1, 2, 1, 2, 3, 1, 3, 2, 1, 5, 2, 5, 3, 1, 3, 2, 4, 4, 0, 1, 5, 3, 0, 0, 1, 2, 2, 1, 1, 3, 1, 5, 1, 1, 2, 0, 1, 2, 2, 2, 0, 1, 2, 2, 1, 2, 3, 2, 1, 1, 1, 1, 2, 3, 2, 2, 1, 2, 3, 0, 1, 5, 2, 2, 2, 1, 4, 1, 1, 2, 5, 0, 2, 4, 3, 1, 3, 2, 1, 2, 2, 3, 2, 2, 3, 2, 5, 4, 4, 4, 4, 4, 1, 4, 4, 4, 2, 4, 4, 1, 2, 0, 2, 2, 5, 2, 4, 2, 4, 1, 4, 4, 4, 4, 0, 4, 4, 1, 4, 4, 4, 1, 3, 4, 1, 0, 4, 2, 1, 5, 5, 4, 5, 4, 3, 4, 4, 1, 4, 0, 5, 3, 2, 3, 3, 3, 3, 5, 4, 4, 2, 4, 2, 2, 4, 0, 2, 3, 2, 2, 3, 2, 1, 3, 0, 0, 3, 3, 5, 0, 2, 4, 2, 4, 3, 4, 2, 4, 0, 1, 2, 4, 2, 2, 4, 4, 4, 2, 2, 3, 1, 2, 2, 4, 4, 4, 1, 3, 2, 0, 3, 2, 2, 2, 0, 3, 3, 3, 4, 3, 1, 2, 1, 1, 2, 2, 2, 2, 2, 5, 3, 4, 4, 4, 4, 2, 2, 4, 0, 5, 4, 4, 0, 2, 2, 4, 4, 4, 1, 4, 4, 4, 2, 5, 1, 3, 0, 4, 2, 2, 0, 2, 0, 1, 2, 3, 1, 3, 4, 3, 0, 3, 5, 1, 2, 2, 1, 2, 4, 4, 2, 2, 0, 2, 3, 2, 2, 3, 3, 2, 4, 3, 3, 5, 1, 1, 2, 3, 1, 2, 2, 2, 3, 4, 2, 3, 4, 0, 2, 2, 3, 2, 2, 2, 3, 1, 5, 1, 2, 1, 3, 4, 4, 1, 2, 2, 0, 2, 2, 3, 3, 5, 1, 2, 2, 2, 4, 4, 3, 2, 3, 2, 2, 4, 4, 2, 5, 4, 4, 3, 3, 2, 0, 1, 1, 2, 4, 5, 2, 3, 2, 3, 4, 3, 4, 2, 4, 2, 1, 4, 4, 4, 2, 2, 3, 1, 1, 0, 2, 0, 2, 1, 2, 2, 4, 2, 0, 1, 4, 4, 2, 3, 4, 4, 5, 2, 3, 2, 5, 4, 4, 4, 4, 2, 0, 3, 4, 2, 1, 2, 1, 3, 3, 4, 4, 5, 2, 3, 5, 5, 5, 5, 5, 5, 4, 1, 5, 5, 5, 2, 5, 5, 5, 3, 5, 5, 5, 5, 5, 5, 5, 2, 5, 5, 2, 2, 4, 5, 5, 5, 5, 5, 5, 5, 4, 5, 5, 5, 5, 2, 5, 5, 5, 5, 2, 2, 2, 5, 5, 5, 5, 5, 5, 5, 2, 5, 5, 5, 5, 5, 5, 4, 5, 2, 5, 5, 5, 5, 5, 5, 5, 2, 5, 5, 5, 5, 5, 5, 5, 5, 5, 5, 5, 4, 5, 5, 1, 5, 5, 5, 1, 2, 5, 5, 5, 5]\n"
     ]
    }
   ],
   "source": [
    "y_pred, perp_pred = evaluate_lm('word', 1, test_text_list, \n",
    "                                        lm_unigram_word_cul, \n",
    "                                        lm_unigram_word_fin, \n",
    "                                        lm_unigram_word_pol, \n",
    "                                        lm_unigram_word_soc, \n",
    "                                        lm_unigram_word_spr, \n",
    "                                        lm_unigram_word_tec)\n",
    "\n",
    "#print(y_pred)\n",
    "#print(perp_pred)"
   ]
  },
  {
   "cell_type": "code",
   "execution_count": 29,
   "metadata": {},
   "outputs": [],
   "source": [
    "with open('LMs\\\\Result.csv','w') as f:\n",
    "    for item in y_pred:\n",
    "        f.write(str(item) + '\\n')"
   ]
  },
  {
   "cell_type": "code",
   "execution_count": null,
   "metadata": {},
   "outputs": [],
   "source": []
  }
 ],
 "metadata": {
  "kernelspec": {
   "display_name": "Python 3 (ipykernel)",
   "language": "python",
   "name": "python3"
  },
  "language_info": {
   "codemirror_mode": {
    "name": "ipython",
    "version": 3
   },
   "file_extension": ".py",
   "mimetype": "text/x-python",
   "name": "python",
   "nbconvert_exporter": "python",
   "pygments_lexer": "ipython3",
   "version": "3.9.13"
  }
 },
 "nbformat": 4,
 "nbformat_minor": 2
}
